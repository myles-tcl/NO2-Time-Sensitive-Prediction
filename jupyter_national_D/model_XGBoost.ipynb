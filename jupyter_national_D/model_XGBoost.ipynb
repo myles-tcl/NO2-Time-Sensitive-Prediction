{
 "cells": [
  {
   "cell_type": "code",
   "execution_count": 1,
   "metadata": {
    "execution": {
     "iopub.execute_input": "2022-10-03T12:44:47.033544Z",
     "iopub.status.busy": "2022-10-03T12:44:47.033166Z",
     "iopub.status.idle": "2022-10-03T12:44:48.000750Z",
     "shell.execute_reply": "2022-10-03T12:44:48.000368Z",
     "shell.execute_reply.started": "2022-10-03T12:44:47.033463Z"
    },
    "tags": []
   },
   "outputs": [],
   "source": [
    "import xgboost as xgb\n",
    "from xgboost import XGBRegressor\n",
    "import joblib\n",
    "import pandas as pd\n",
    "import numpy as np\n",
    "import matplotlib.pyplot as plt\n",
    "from sklearn.metrics import mean_squared_error,r2_score, mean_absolute_error\n",
    "from sklearn.model_selection import cross_val_score,train_test_split\n",
    "from math import sqrt\n",
    "import matplotlib.dates as mdates\n",
    "from sklearn.preprocessing import StandardScaler,OrdinalEncoder\n",
    "from sklearn.model_selection import GridSearchCV, KFold\n",
    "import os"
   ]
  },
  {
   "cell_type": "code",
   "execution_count": 11,
   "metadata": {
    "collapsed": false,
    "execution": {
     "iopub.execute_input": "2022-10-03T12:47:10.465938Z",
     "iopub.status.busy": "2022-10-03T12:47:10.465619Z",
     "iopub.status.idle": "2022-10-03T12:47:10.471264Z",
     "shell.execute_reply": "2022-10-03T12:47:10.470658Z",
     "shell.execute_reply.started": "2022-10-03T12:47:10.465923Z"
    },
    "jupyter": {
     "outputs_hidden": false
    },
    "pycharm": {
     "name": "#%%\n"
    },
    "tags": []
   },
   "outputs": [],
   "source": [
    "# 设置全局控制的变量\n",
    "freq = 'D'\n",
    "region = 'NA'\n",
    "model_sty = 'xgb'\n",
    "\n",
    "if freq == 'H':\n",
    "    data_num = 17520\n",
    "    list_col = ['NO2+h','NO2-h','NO2-2h','NO2-3h']\n",
    "    col_name = ['NO2+h_rfr','NO2+h_xgb','NO2+h_resnet']\n",
    "    col_name  = list_col[0] + '_' + model_sty\n",
    "    file_name = 'pol_mete_' + region + '_' + freq + '.csv'\n",
    "    file_name_pre = 'pol_mete_' + region + '_' + freq + '_predict.csv'\n",
    "if freq == '3H':\n",
    "    data_num = 5840\n",
    "    list_col = ['NO2+3h','NO2-3h','NO2-6h','NO2-9h']\n",
    "    col_name  = list_col[0] + '_' + model_sty\n",
    "    file_name = 'pol_mete_' + region + '_' + freq + '.csv'\n",
    "    file_name_pre = 'pol_mete_' + region + '_' + freq + '_predict.csv'\n",
    "if freq == 'D':\n",
    "    data_num = 730\n",
    "    list_col = ['NO2+d','NO2-d','NO2-2d','NO2-3d']\n",
    "    col_name  = list_col[0] + '_' + model_sty\n",
    "    file_name = 'pol_mete_' + region + '_' + freq + '.csv'\n",
    "    file_name_pre = 'pol_mete_' + region + '_' + freq + '_predict.csv'\n",
    "\n",
    "file_path = 'data/'\n",
    "file_path_model = ''"
   ]
  },
  {
   "cell_type": "markdown",
   "metadata": {},
   "source": [
    "## Ten time-steps"
   ]
  },
  {
   "cell_type": "markdown",
   "metadata": {},
   "source": [
    "### Load data"
   ]
  },
  {
   "cell_type": "code",
   "execution_count": 5,
   "metadata": {
    "execution": {
     "iopub.execute_input": "2022-10-03T12:45:05.978702Z",
     "iopub.status.busy": "2022-10-03T12:45:05.978410Z",
     "iopub.status.idle": "2022-10-03T12:45:16.568279Z",
     "shell.execute_reply": "2022-10-03T12:45:16.567828Z",
     "shell.execute_reply.started": "2022-10-03T12:45:05.978679Z"
    },
    "tags": []
   },
   "outputs": [],
   "source": [
    "# load data with 10 time-steps\n",
    "data = np.load(file_path + 'numpy/NA_d_array_14.npz',allow_pickle=True, mmap_mode='r')\n",
    "xtrain,ytrain,xtest,ytest,ytrain_,ytest_ = data['a'][:,-10:,:],data['b'],data['c'][:,-10:,:],data['d'],data['e'],data['f']"
   ]
  },
  {
   "cell_type": "code",
   "execution_count": null,
   "metadata": {
    "execution": {
     "iopub.execute_input": "2022-10-03T12:45:16.569420Z",
     "iopub.status.busy": "2022-10-03T12:45:16.569022Z",
     "iopub.status.idle": "2022-10-03T12:45:16.575665Z",
     "shell.execute_reply": "2022-10-03T12:45:16.575321Z",
     "shell.execute_reply.started": "2022-10-03T12:45:16.569404Z"
    },
    "tags": []
   },
   "outputs": [],
   "source": [
    "xtrain.shape, xtrain.dtype"
   ]
  },
  {
   "cell_type": "code",
   "execution_count": 7,
   "metadata": {
    "execution": {
     "iopub.execute_input": "2022-10-03T12:45:16.576250Z",
     "iopub.status.busy": "2022-10-03T12:45:16.576125Z",
     "iopub.status.idle": "2022-10-03T12:45:16.598999Z",
     "shell.execute_reply": "2022-10-03T12:45:16.598402Z",
     "shell.execute_reply.started": "2022-10-03T12:45:16.576238Z"
    },
    "tags": []
   },
   "outputs": [],
   "source": [
    "# flatten\n",
    "xtrain, xtest = xtrain.reshape(-1, 360), xtest.reshape(-1, 360)"
   ]
  },
  {
   "cell_type": "markdown",
   "metadata": {
    "execution": {
     "iopub.execute_input": "2022-09-19T09:30:38.875455Z",
     "iopub.status.busy": "2022-09-19T09:30:38.874594Z",
     "iopub.status.idle": "2022-09-19T09:30:38.878782Z",
     "shell.execute_reply": "2022-09-19T09:30:38.878132Z",
     "shell.execute_reply.started": "2022-09-19T09:30:38.875422Z"
    }
   },
   "source": [
    "### Cross validation"
   ]
  },
  {
   "cell_type": "code",
   "execution_count": 13,
   "metadata": {
    "execution": {
     "iopub.execute_input": "2022-09-20T02:07:49.756200Z",
     "iopub.status.busy": "2022-09-20T02:07:49.755896Z",
     "iopub.status.idle": "2022-09-20T02:07:49.764459Z",
     "shell.execute_reply": "2022-09-20T02:07:49.763861Z",
     "shell.execute_reply.started": "2022-09-20T02:07:49.756176Z"
    },
    "tags": []
   },
   "outputs": [],
   "source": [
    "# 函数：XGBoost模型 define XGBoost model\n",
    "def model_xgbr_cv(xtrain, ytrain, xtest, ytest,num_round,verbosity,eta,gamma,colsample_bynode\n",
    "               ,colsample_bytree,min_chlid_weight,alpha,lambdas,max_depth=10):\n",
    "\n",
    "    # 建模：XGBRegressor\n",
    "    xgbr = XGBRegressor(verbosity=verbosity,learning_rate=eta,gamma=gamma,colsample_bynode=colsample_bynode\n",
    "                        ,colsample_bytree=colsample_bytree, min_chlid_weight=min_chlid_weight,alpha=alpha\n",
    "                        ,lambdas=lambdas, n_estimators=num_round,max_depth=max_depth\n",
    "                        , tree_method='gpu_hist', gpu_id=0, single_precision_histogram=True\n",
    "                        # , subsample=0.1, sampling_method=\"gradient_based\"\n",
    "                        #,n_jobs=-1\n",
    "                       ).fit(xtrain, ytrain)\n",
    "\n",
    "    feature_importances = xgbr.feature_importances_\n",
    "    #feature_importances = pd.DataFrame([*zip(xtrain.columns,feature_importances)])\n",
    "    #feature_importances = feature_importances.sort_values(by=1,axis=0,ascending=False)\n",
    "    #print(feature_importances)\n",
    "    \n",
    "    # 训练集预测结果和评价指标\n",
    "    predict = xgbr.predict(xtrain)\n",
    "    RMSE = sqrt(mean_squared_error(ytrain,predict))\n",
    "    MAE = mean_absolute_error(ytrain, predict)\n",
    "    R2 = r2_score(ytrain,predict)\n",
    "    # 测试集预测结果和评价指标\n",
    "    ypredict = xgbr.predict(xtest)\n",
    "    val_RMSE = sqrt(mean_squared_error(ytest,ypredict))\n",
    "    val_MAE = mean_absolute_error(ytest, ypredict)\n",
    "    val_R2 = r2_score(ytest,ypredict)\n",
    "    print('模型在训练集表现','RMSE:',RMSE,'R2:',R2)\n",
    "    print('模型在测试集表现','val_RMSE:',val_RMSE,'val_R2:',val_R2)\n",
    "    return RMSE,MAE,R2,val_RMSE,val_MAE,val_R2,xgbr,feature_importances"
   ]
  },
  {
   "cell_type": "code",
   "execution_count": 15,
   "metadata": {
    "execution": {
     "iopub.execute_input": "2022-09-20T02:07:50.505847Z",
     "iopub.status.busy": "2022-09-20T02:07:50.505634Z",
     "iopub.status.idle": "2022-09-20T02:09:26.694524Z",
     "shell.execute_reply": "2022-09-20T02:09:26.694032Z",
     "shell.execute_reply.started": "2022-09-20T02:07:50.505831Z"
    },
    "tags": []
   },
   "outputs": [],
   "source": [
    "# cross validation\n",
    "Training = False\n",
    "kfold = KFold(n_splits=5, shuffle=False)\n",
    "results_cv = []\n",
    "preds_list = []\n",
    "for i, j in enumerate(kfold.split(xtrain, ytrain)):\n",
    "    idx_train, idx_test = j[0], j[1]\n",
    "    save_model_path = os.path.join(file_path_model, 'model', model_sty)\n",
    "    if not os.path.exists(save_model_path):\n",
    "        print(\"creating path: \" + save_model_path)\n",
    "        os.mkdir(save_model_path)\n",
    "\n",
    "    if Training:\n",
    "        result_ = model_xgbr_cv(xtrain=xtrain[idx_train], ytrain=ytrain[idx_train], xtest=xtrain[idx_test], ytest=ytrain[idx_test], verbosity=0, eta=0.19\n",
    "                            ,num_round=295, gamma=0.25, colsample_bynode=1, colsample_bytree=1, min_chlid_weight=0.5, alpha=1.9, lambdas=1.0)\n",
    "        # save model\n",
    "        xgbr = result_[6]\n",
    "        joblib.dump(xgbr, save_model_path + '/model_xgboost_cv_' + str(i) +'.dat')\n",
    "        results_cv.append([result_[3], result_[4], result_[5]])\n",
    "    else:\n",
    "        xgbr = joblib.load(save_model_path + '/model_xgboost_cv_' + str(i) +'.dat')\n",
    "\n",
    "    preds_te = xgbr.predict(xtrain[idx_test])\n",
    "    preds = np.concatenate([ytrain[idx_test].reshape(-1,1), preds_te.reshape(-1, 1), ytrain_[idx_test]], axis=1)\n",
    "    preds_list.append(preds)\n",
    "\n",
    "np.savez(file_path + 'cross_validation/NA_' + freq + '_predictions_' + model_sty + '.npz', cv0 = preds_list[0], cv01 = preds_list[1], cv02 = preds_list[2], cv3 = preds_list[3], cv4 = preds_list[4])"
   ]
  },
  {
   "cell_type": "code",
   "execution_count": null,
   "metadata": {
    "execution": {
     "iopub.execute_input": "2022-09-20T01:29:38.364524Z",
     "iopub.status.busy": "2022-09-20T01:29:38.364397Z",
     "iopub.status.idle": "2022-09-20T01:29:38.367766Z",
     "shell.execute_reply": "2022-09-20T01:29:38.367382Z",
     "shell.execute_reply.started": "2022-09-20T01:29:38.364512Z"
    },
    "tags": []
   },
   "outputs": [],
   "source": [
    "results_cv, np.array(results_cv).mean(axis=0)"
   ]
  },
  {
   "cell_type": "markdown",
   "metadata": {},
   "source": [
    "### Traing model in train sets"
   ]
  },
  {
   "cell_type": "code",
   "execution_count": null,
   "metadata": {
    "execution": {
     "iopub.execute_input": "2022-09-20T01:56:05.435468Z",
     "iopub.status.busy": "2022-09-20T01:56:05.435148Z",
     "iopub.status.idle": "2022-09-20T01:56:23.484198Z",
     "shell.execute_reply": "2022-09-20T01:56:23.483851Z",
     "shell.execute_reply.started": "2022-09-20T01:56:05.435454Z"
    },
    "tags": []
   },
   "outputs": [],
   "source": [
    "# training model\n",
    "result_ = model_xgbr_cv(xtrain, ytrain, xtest, ytest, verbosity=0, eta=0.19, num_round=295, gamma=0.25, colsample_bynode=1,\n",
    "                        colsample_bytree=1, min_chlid_weight=0.5, alpha=1.9, lambdas=1.0)\n",
    "# save model\n",
    "xgbr = result_[6]\n",
    "save_model_path = os.path.join(file_path_model, 'model', model_sty)\n",
    "joblib.dump(xgbr, save_model_path + '/model_xgboost.dat')"
   ]
  },
  {
   "cell_type": "markdown",
   "metadata": {},
   "source": [
    "### SHAP values"
   ]
  },
  {
   "cell_type": "code",
   "execution_count": 12,
   "metadata": {
    "execution": {
     "iopub.execute_input": "2022-10-03T12:47:28.071942Z",
     "iopub.status.busy": "2022-10-03T12:47:28.071315Z",
     "iopub.status.idle": "2022-10-03T12:47:28.132641Z",
     "shell.execute_reply": "2022-10-03T12:47:28.132176Z",
     "shell.execute_reply.started": "2022-10-03T12:47:28.071918Z"
    }
   },
   "outputs": [],
   "source": [
    "# load model\n",
    "save_model_path = os.path.join(file_path_model, 'model', model_sty)\n",
    "xgbr = joblib.load(save_model_path + '/model_xgboost.dat')"
   ]
  },
  {
   "cell_type": "code",
   "execution_count": 10,
   "metadata": {
    "execution": {
     "iopub.execute_input": "2022-10-03T12:47:29.689898Z",
     "iopub.status.busy": "2022-10-03T12:47:29.689197Z",
     "iopub.status.idle": "2022-10-03T12:47:30.591067Z",
     "shell.execute_reply": "2022-10-03T12:47:30.590549Z",
     "shell.execute_reply.started": "2022-10-03T12:47:29.689869Z"
    },
    "tags": []
   },
   "outputs": [],
   "source": [
    "# expalin the model's predictions using SHAP， gputree\n",
    "import shap\n",
    "np.random.seed(100)\n",
    "X = xtrain[np.random.choice(xtrain.shape[0], 500000, replace=True)]\n",
    "explainer = shap.explainers.GPUTree(xgbr, X)"
   ]
  },
  {
   "cell_type": "code",
   "execution_count": 11,
   "metadata": {
    "execution": {
     "iopub.execute_input": "2022-10-03T12:47:35.607029Z",
     "iopub.status.busy": "2022-10-03T12:47:35.606701Z",
     "iopub.status.idle": "2022-10-03T13:05:29.561107Z",
     "shell.execute_reply": "2022-10-03T13:05:29.560636Z",
     "shell.execute_reply.started": "2022-10-03T12:47:35.607002Z"
    },
    "tags": []
   },
   "outputs": [],
   "source": [
    "shap_values = explainer(X, check_additivity=False)"
   ]
  },
  {
   "cell_type": "code",
   "execution_count": null,
   "metadata": {
    "execution": {
     "iopub.execute_input": "2022-09-20T01:38:28.487943Z",
     "iopub.status.busy": "2022-09-20T01:38:28.487808Z",
     "iopub.status.idle": "2022-09-20T01:39:06.533955Z",
     "shell.execute_reply": "2022-09-20T01:39:06.533355Z",
     "shell.execute_reply.started": "2022-09-20T01:38:28.487930Z"
    }
   },
   "outputs": [],
   "source": [
    "# summarize the effects of all the features\n",
    "shap.plots.beeswarm(shap_values, max_display=15)"
   ]
  },
  {
   "cell_type": "code",
   "execution_count": null,
   "metadata": {
    "execution": {
     "iopub.execute_input": "2022-09-20T01:39:06.534790Z",
     "iopub.status.busy": "2022-09-20T01:39:06.534614Z",
     "iopub.status.idle": "2022-09-20T01:39:07.788192Z",
     "shell.execute_reply": "2022-09-20T01:39:07.787578Z",
     "shell.execute_reply.started": "2022-09-20T01:39:06.534777Z"
    }
   },
   "outputs": [],
   "source": [
    "shap.plots.bar(shap_values, max_display=15)"
   ]
  },
  {
   "cell_type": "code",
   "execution_count": 12,
   "metadata": {
    "execution": {
     "iopub.execute_input": "2022-10-03T13:05:29.561976Z",
     "iopub.status.busy": "2022-10-03T13:05:29.561838Z",
     "iopub.status.idle": "2022-10-03T13:05:32.804123Z",
     "shell.execute_reply": "2022-10-03T13:05:32.803551Z",
     "shell.execute_reply.started": "2022-10-03T13:05:29.561962Z"
    }
   },
   "outputs": [],
   "source": [
    "# 存储 save shap_value 和 base value\n",
    "np.save(file_path + 'shap_values/' + model_sty + '_shap_values_' + freq, shap_values.values)\n",
    "np.save(file_path + 'shap_values/' + model_sty + '_base_values_' + freq, shap_values.base_values)"
   ]
  },
  {
   "cell_type": "markdown",
   "metadata": {},
   "source": [
    "### Evaluation"
   ]
  },
  {
   "cell_type": "code",
   "execution_count": null,
   "metadata": {
    "execution": {
     "iopub.execute_input": "2022-09-20T01:45:21.259913Z",
     "iopub.status.busy": "2022-09-20T01:45:21.259482Z",
     "iopub.status.idle": "2022-09-20T01:45:23.020610Z",
     "shell.execute_reply": "2022-09-20T01:45:23.020127Z",
     "shell.execute_reply.started": "2022-09-20T01:45:21.259886Z"
    },
    "tags": []
   },
   "outputs": [],
   "source": [
    "# define function of evaluation\n",
    "def model_evaluation(feature, label, save_model_path):\n",
    "    # 加载训练好的模型，对2020年数据进行预测，并将预测结果保存，写入数据库\n",
    "    # load model\n",
    "    model_ = joblib.load(save_model_path + '/model_xgboost.dat')\n",
    "    # predicting\n",
    "    predictions = model_.predict(feature)\n",
    "    # load normalization paramaters\n",
    "    norm_params = pd.read_csv(file_path + 'normalization_params/normalization_params_D_no2-idx-0')\n",
    "    norm_std, norm_mean = norm_params['std'][0], norm_params['mean'][0]\n",
    "    # 反标准化\n",
    "    predictions_ = (predictions * sqrt(norm_std) + norm_mean).astype(int)\n",
    "    label_ = (label * sqrt(norm_std) + norm_mean).astype(int)\n",
    "    # metrics\n",
    "    rmse = sqrt(mean_squared_error(label_, predictions_))\n",
    "    mae = mean_absolute_error(label_, predictions_)\n",
    "    r2 = r2_score(label_, predictions_)\n",
    "    print('模型性能：', rmse, mae, r2)\n",
    "    return predictions_, label_\n",
    "\n",
    "pre_train, real_train = model_evaluation(xtrain, ytrain, save_model_path)\n",
    "pre_test, real_test = model_evaluation(xtest, ytest, save_model_path)"
   ]
  },
  {
   "cell_type": "markdown",
   "metadata": {},
   "source": [
    "### Save predictions"
   ]
  },
  {
   "cell_type": "code",
   "execution_count": 14,
   "metadata": {
    "execution": {
     "iopub.execute_input": "2022-09-20T01:45:54.386683Z",
     "iopub.status.busy": "2022-09-20T01:45:54.386248Z",
     "iopub.status.idle": "2022-09-20T01:46:01.762947Z",
     "shell.execute_reply": "2022-09-20T01:46:01.762245Z",
     "shell.execute_reply.started": "2022-09-20T01:45:54.386657Z"
    }
   },
   "outputs": [],
   "source": [
    "# load information of time and stations\n",
    "data = np.load(file_path + 'numpy/NA_d_array_14.npz', allow_pickle=True, mmap_mode='r')\n",
    "ytrain_, ytest_ = data['e'], data['f']"
   ]
  },
  {
   "cell_type": "code",
   "execution_count": 22,
   "metadata": {
    "execution": {
     "iopub.execute_input": "2022-09-20T01:46:07.571963Z",
     "iopub.status.busy": "2022-09-20T01:46:07.571543Z",
     "iopub.status.idle": "2022-09-20T01:46:15.580378Z",
     "shell.execute_reply": "2022-09-20T01:46:15.579678Z",
     "shell.execute_reply.started": "2022-09-20T01:46:07.571937Z"
    }
   },
   "outputs": [],
   "source": [
    "# 将预测数据和真实值匹配，并添加时间索引和站点名  : merge predictions and index\n",
    "test_res = pd.concat([pd.DataFrame(real_test, columns=[list_col[0]]), pd.DataFrame(pre_test,columns=[col_name])\n",
    "                         ,pd.DataFrame(ytest_[:,1:], columns=['index','station'])], axis=1)\n",
    "train_res = pd.concat([pd.DataFrame(real_train,columns=[list_col[0]]),pd.DataFrame(pre_train,columns=[col_name])\n",
    "                          ,pd.DataFrame(ytrain_[:,1:],columns=['index','station'])],axis=1)\n",
    "data_res = pd.concat([train_res,test_res],axis=0)\n",
    "data_res['index'] = (pd.to_datetime(data_res['index']) + pd.Timedelta('-1 days')).astype(str)"
   ]
  },
  {
   "cell_type": "code",
   "execution_count": 24,
   "metadata": {
    "execution": {
     "iopub.execute_input": "2022-09-20T01:46:49.645310Z",
     "iopub.status.busy": "2022-09-20T01:46:49.644562Z",
     "iopub.status.idle": "2022-09-20T01:46:51.376493Z",
     "shell.execute_reply": "2022-09-20T01:46:51.375796Z",
     "shell.execute_reply.started": "2022-09-20T01:46:49.645281Z"
    }
   },
   "outputs": [],
   "source": [
    "data_ = pd.read_csv(file_path + file_name_pre)"
   ]
  },
  {
   "cell_type": "code",
   "execution_count": 26,
   "metadata": {
    "execution": {
     "iopub.execute_input": "2022-09-20T01:47:09.475314Z",
     "iopub.status.busy": "2022-09-20T01:47:09.474788Z",
     "iopub.status.idle": "2022-09-20T01:47:09.514901Z",
     "shell.execute_reply": "2022-09-20T01:47:09.514221Z",
     "shell.execute_reply.started": "2022-09-20T01:47:09.475287Z"
    }
   },
   "outputs": [],
   "source": [
    "data_ = data_.drop(columns = col_name)"
   ]
  },
  {
   "cell_type": "code",
   "execution_count": 27,
   "metadata": {
    "execution": {
     "iopub.execute_input": "2022-09-20T01:47:30.713964Z",
     "iopub.status.busy": "2022-09-20T01:47:30.713263Z",
     "iopub.status.idle": "2022-09-20T01:47:31.935332Z",
     "shell.execute_reply": "2022-09-20T01:47:31.934645Z",
     "shell.execute_reply.started": "2022-09-20T01:47:30.713936Z"
    }
   },
   "outputs": [],
   "source": [
    "data_ = pd.merge(data_, data_res.drop(columns=list_col[0]), on=['index', 'station'], how='left')"
   ]
  },
  {
   "cell_type": "code",
   "execution_count": 30,
   "metadata": {
    "execution": {
     "iopub.execute_input": "2022-09-20T01:48:23.739637Z",
     "iopub.status.busy": "2022-09-20T01:48:23.739274Z",
     "iopub.status.idle": "2022-09-20T01:48:35.549996Z",
     "shell.execute_reply": "2022-09-20T01:48:35.549181Z",
     "shell.execute_reply.started": "2022-09-20T01:48:23.739611Z"
    }
   },
   "outputs": [],
   "source": [
    "# save predictions\n",
    "data_.to_csv(file_path + file_name_pre, index=False)"
   ]
  },
  {
   "cell_type": "code",
   "execution_count": null,
   "metadata": {
    "collapsed": false,
    "jupyter": {
     "outputs_hidden": false
    },
    "pycharm": {
     "name": "#%%\n"
    }
   },
   "outputs": [],
   "source": []
  },
  {
   "cell_type": "code",
   "execution_count": null,
   "metadata": {},
   "outputs": [],
   "source": []
  }
 ],
 "metadata": {
  "kernelspec": {
   "display_name": "Python 3.7.12 ('shap')",
   "language": "python",
   "name": "python3"
  },
  "language_info": {
   "codemirror_mode": {
    "name": "ipython",
    "version": 3
   },
   "file_extension": ".py",
   "mimetype": "text/x-python",
   "name": "python",
   "nbconvert_exporter": "python",
   "pygments_lexer": "ipython3",
   "version": "3.7.12"
  },
  "vscode": {
   "interpreter": {
    "hash": "99b65fd7e3ec5bc21dc77f0708fecbbb76703765538fbfa9cab4509c5074445c"
   }
  }
 },
 "nbformat": 4,
 "nbformat_minor": 4
}
