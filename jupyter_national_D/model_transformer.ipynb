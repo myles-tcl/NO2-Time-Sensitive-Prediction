{
 "cells": [
  {
   "cell_type": "code",
   "execution_count": 1,
   "id": "94323d59",
   "metadata": {
    "execution": {
     "iopub.execute_input": "2022-10-10T09:05:00.525853Z",
     "iopub.status.busy": "2022-10-10T09:05:00.525398Z",
     "iopub.status.idle": "2022-10-10T09:05:01.905620Z",
     "shell.execute_reply": "2022-10-10T09:05:01.904995Z",
     "shell.execute_reply.started": "2022-10-10T09:05:00.525804Z"
    },
    "tags": []
   },
   "outputs": [],
   "source": [
    "import torch\n",
    "from torch import nn, Tensor\n",
    "import torch.nn.functional as F\n",
    "from torch.nn import TransformerEncoder, TransformerEncoderLayer\n",
    "from torch.utils.data import Dataset, DataLoader\n",
    "from torch.optim import Optimizer\n",
    "from torch.optim.lr_scheduler import LambdaLR\n",
    "from torch.utils.tensorboard import SummaryWriter\n",
    "from sklearn.metrics import r2_score, mean_squared_error, mean_absolute_error\n",
    "from sklearn.model_selection import KFold\n",
    "from tqdm import tqdm\n",
    "from math import sqrt\n",
    "import numpy as np\n",
    "import os\n",
    "import pandas as pd\n",
    "import math\n",
    "import matplotlib.pyplot as plt\n",
    "import shap"
   ]
  },
  {
   "cell_type": "markdown",
   "id": "65b64c77",
   "metadata": {
    "execution": {
     "iopub.execute_input": "2022-09-21T08:31:56.090322Z",
     "iopub.status.busy": "2022-09-21T08:31:56.089880Z",
     "iopub.status.idle": "2022-09-21T08:31:56.093420Z",
     "shell.execute_reply": "2022-09-21T08:31:56.092866Z",
     "shell.execute_reply.started": "2022-09-21T08:31:56.090303Z"
    }
   },
   "source": [
    "## Set global parameters"
   ]
  },
  {
   "cell_type": "code",
   "execution_count": 2,
   "id": "4cccd60f",
   "metadata": {
    "execution": {
     "iopub.execute_input": "2022-10-10T09:05:02.988258Z",
     "iopub.status.busy": "2022-10-10T09:05:02.987975Z",
     "iopub.status.idle": "2022-10-10T09:05:02.994709Z",
     "shell.execute_reply": "2022-10-10T09:05:02.994171Z",
     "shell.execute_reply.started": "2022-10-10T09:05:02.988236Z"
    },
    "tags": []
   },
   "outputs": [],
   "source": [
    "# 设置全局控制的变量\n",
    "freq = 'D'\n",
    "region = 'NA'\n",
    "model_sty = 'transformer'\n",
    "\n",
    "if freq == 'H':\n",
    "    data_num = 17520\n",
    "    list_col = ['NO2+h','NO2-h','NO2-2h','NO2-3h']\n",
    "    col_name  = list_col[0] + '_' + model_sty\n",
    "    file_name = 'pol_mete_' + region + '_' + freq + '.csv'\n",
    "    file_name_pre = 'pol_mete_' + region + '_' + freq + '_predict.csv'\n",
    "if freq == '3H':\n",
    "    data_num = 5840\n",
    "    list_col = ['NO2+3h','NO2-3h','NO2-6h','NO2-9h']\n",
    "    col_name  = list_col[0] + '_' + model_sty\n",
    "    file_name = 'pol_mete_' + region + '_' + freq + '.csv'\n",
    "    file_name_pre = 'pol_mete_' + region + '_' + freq + '_predict.csv'\n",
    "if freq == 'D':\n",
    "    data_num = 730\n",
    "    list_col = ['NO2+d','NO2-d','NO2-2d','NO2-3d']\n",
    "    col_name  = list_col[0] + '_' + model_sty\n",
    "    file_name = 'pol_mete_' + region + '_' + freq + '.csv'\n",
    "    file_name_pre = 'pol_mete_' + region + '_' + freq + '_predict.csv'\n",
    "\n",
    "file_path = 'data/'\n",
    "file_path_model = ''"
   ]
  },
  {
   "cell_type": "markdown",
   "id": "ac0109fa",
   "metadata": {},
   "source": [
    "## Define functions"
   ]
  },
  {
   "cell_type": "code",
   "execution_count": 3,
   "id": "9711a2d0",
   "metadata": {
    "execution": {
     "iopub.execute_input": "2022-10-10T09:05:04.618458Z",
     "iopub.status.busy": "2022-10-10T09:05:04.618173Z",
     "iopub.status.idle": "2022-10-10T09:05:04.630784Z",
     "shell.execute_reply": "2022-10-10T09:05:04.630325Z",
     "shell.execute_reply.started": "2022-10-10T09:05:04.618437Z"
    },
    "tags": []
   },
   "outputs": [],
   "source": [
    "# model\n",
    "class Transformermodel(nn.Module):\n",
    "    def __init__(self, targets: int, d_model: int, nhead: int, timesteps: int,\n",
    "                n_layers: int, dropout: float = 0.01):\n",
    "        super().__init__()\n",
    "        \n",
    "        self.pos_encoder = PostionalEncoding(d_model, dropout)\n",
    "        encoder_layer = TransformerEncoderLayer(d_model, nhead, d_model * 4, dropout)\n",
    "        self.transformer_encoder = TransformerEncoder(encoder_layer, n_layers)\n",
    "        self.decoder1 = nn.Linear(d_model, targets)\n",
    "        self.decoder2 = nn.Linear(timesteps, targets)\n",
    "        \n",
    "        self.d_model = d_model\n",
    "        self.timesteps = timesteps\n",
    "        self.init_weight()\n",
    "        \n",
    "    def init_weight(self) -> None:\n",
    "        inits = 0.1\n",
    "        self.decoder1.bias.data.zero_()\n",
    "        self.decoder1.weight.data.uniform_(-inits, inits)\n",
    "        self.decoder2.bias.data.zero_()\n",
    "        self.decoder2.weight.data.uniform_(-inits, inits)\n",
    "        \n",
    "    def forward(self, inputs: Tensor) -> Tensor:\n",
    "        \n",
    "        x = inputs.permute(1,0,2)\n",
    "        x = self.pos_encoder(x)\n",
    "        x = self.transformer_encoder(x)\n",
    "        #x = x.permute(1,0,2).reshape(-1, self.d_model * self.timesteps)\n",
    "        x = self.decoder1(x)\n",
    "        outputs = self.decoder2(x.permute(1,0,2).reshape(-1, self.timesteps))\n",
    "\n",
    "        return outputs\n",
    "        \n",
    "class PostionalEncoding(nn.Module):\n",
    "    def __init__(self, d_model: int, dropout: float = 0.01, max_len: int = 10):\n",
    "        super().__init__()\n",
    "        self.dropout = nn.Dropout(p = dropout)\n",
    "        \n",
    "        position = torch.arange(max_len).unsqueeze(1)\n",
    "        div_term = torch.exp(torch.arange(0, d_model, 2) * (-math.log(5.0) / d_model))\n",
    "        pe = torch.zeros(max_len, 1 ,d_model)\n",
    "        pe[:, 0, 0::2] = torch.sin(position * div_term)\n",
    "        pe[:, 0, 1::2] = torch.cos(position * div_term)\n",
    "        self.register_buffer(\"pe\", pe)\n",
    "        \n",
    "    def forward(self, x: Tensor) -> Tensor:\n",
    "        \n",
    "        x_position = self.pe[:x.size(0)]\n",
    "        # print(x_position.shape)\n",
    "        x = x + self.pe[:x.size(0)]\n",
    "        outputs = self.dropout(x)\n",
    "        \n",
    "        return outputs"
   ]
  },
  {
   "cell_type": "raw",
   "id": "0ab57e29",
   "metadata": {
    "execution": {
     "iopub.execute_input": "2022-09-21T09:17:47.057261Z",
     "iopub.status.busy": "2022-09-21T09:17:47.056829Z",
     "iopub.status.idle": "2022-09-21T09:17:47.215624Z",
     "shell.execute_reply": "2022-09-21T09:17:47.215090Z",
     "shell.execute_reply.started": "2022-09-21T09:17:47.057243Z"
    },
    "tags": []
   },
   "source": [
    "Transformermodel(targets=1, d_model=38, nhead=2, timesteps=10, n_layers=4,)(X).shape"
   ]
  },
  {
   "cell_type": "code",
   "execution_count": 5,
   "id": "f910355c",
   "metadata": {
    "execution": {
     "iopub.execute_input": "2022-10-10T09:05:06.102479Z",
     "iopub.status.busy": "2022-10-10T09:05:06.102195Z",
     "iopub.status.idle": "2022-10-10T09:05:06.105546Z",
     "shell.execute_reply": "2022-10-10T09:05:06.104971Z",
     "shell.execute_reply.started": "2022-10-10T09:05:06.102457Z"
    },
    "tags": []
   },
   "outputs": [],
   "source": [
    "# 可视化位置编码 visualization of position embeding\n",
    "# X = torch.zeros((10, 32, 38))\n",
    "# outs, x_position = PostionalEncoding(d_model=38)(X)\n",
    "# plt.imshow(x_position.reshape(10,38).numpy())"
   ]
  },
  {
   "cell_type": "code",
   "execution_count": 4,
   "id": "5ad2c837",
   "metadata": {
    "execution": {
     "iopub.execute_input": "2022-10-10T09:05:07.017498Z",
     "iopub.status.busy": "2022-10-10T09:05:07.017085Z",
     "iopub.status.idle": "2022-10-10T09:05:07.023518Z",
     "shell.execute_reply": "2022-10-10T09:05:07.022868Z",
     "shell.execute_reply.started": "2022-10-10T09:05:07.017475Z"
    },
    "tags": []
   },
   "outputs": [],
   "source": [
    "# dataloader\n",
    "class Mydataset(Dataset):\n",
    "    def __init__(self, data, target,):\n",
    "        self.data = torch.FloatTensor(data)\n",
    "        self.target = torch.FloatTensor(target)\n",
    "        self.dim = self.data.size\n",
    "        print('Finished reading the Dataset ({} samples found, each dim = {}, target dim = {})'.format(self.data.size(0), self.data.shape, self.target.shape))\n",
    "        \n",
    "    def __getitem__(self, idx):\n",
    "        \n",
    "        return self.data[idx], self.target[idx]\n",
    "    \n",
    "    def __len__(self):\n",
    "        return self.data.size(0)\n",
    "\n",
    "def Mydataloader(data, target, batch_size=256):\n",
    "    dataset = Mydataset(data, target)\n",
    "    dataloader = DataLoader(dataset, batch_size=batch_size, shuffle=False, num_workers=0, pin_memory=False)\n",
    "    return dataloader"
   ]
  },
  {
   "cell_type": "code",
   "execution_count": 5,
   "id": "a8fef3ee",
   "metadata": {
    "execution": {
     "iopub.execute_input": "2022-10-10T09:05:07.818534Z",
     "iopub.status.busy": "2022-10-10T09:05:07.818252Z",
     "iopub.status.idle": "2022-10-10T09:05:07.824805Z",
     "shell.execute_reply": "2022-10-10T09:05:07.824156Z",
     "shell.execute_reply.started": "2022-10-10T09:05:07.818512Z"
    },
    "tags": []
   },
   "outputs": [],
   "source": [
    "# learning rate schedule: warmup\n",
    "def get_cosine_schedule_with_warmup(\n",
    "  optimizer: Optimizer,\n",
    "  num_warmup_steps: int,\n",
    "  num_training_steps: int,\n",
    "  num_cycles: float = 0.5,\n",
    "  last_epoch: int = -1,\n",
    "):\n",
    "    \"\"\"\n",
    "      Args:\n",
    "    optimizer (:class:`~torch.optim.Optimizer`):\n",
    "      The optimizer for which to schedule the learning rate.\n",
    "    num_warmup_steps (:obj:`int`):\n",
    "      The number of steps for the warmup phase.\n",
    "    num_training_steps (:obj:`int`):\n",
    "      The total number of training steps.\n",
    "    num_cycles (:obj:`float`, `optional`, defaults to 0.5):\n",
    "      The number of waves in the cosine schedule (the defaults is to just decrease from the max value to 0\n",
    "      following a half-cosine).\n",
    "    last_epoch (:obj:`int`, `optional`, defaults to -1):\n",
    "      The index of the last epoch when resuming training.\n",
    "\n",
    "  Return:\n",
    "    :obj:`torch.optim.lr_scheduler.LambdaLR` with the appropriate schedule.\n",
    "    \"\"\"\n",
    "    def lr_lambda(current_step):\n",
    "        #print(current_step)\n",
    "        # warmup\n",
    "        if current_step < num_warmup_steps:\n",
    "            return float(current_step) / float(max(1,num_warmup_steps))\n",
    "\n",
    "        # decadence\n",
    "        progress = float(current_step - num_warmup_steps) / float(max(1, num_training_steps-num_warmup_steps))\n",
    "        return max(0, 0.5 * (1.0 + math.cos(math.pi * float(num_cycles) * 2.0 * progress)))\n",
    "\n",
    "    return LambdaLR(optimizer, lr_lambda, last_epoch)"
   ]
  },
  {
   "cell_type": "code",
   "execution_count": 6,
   "id": "f30b0449",
   "metadata": {
    "execution": {
     "iopub.execute_input": "2022-10-10T09:07:21.514648Z",
     "iopub.status.busy": "2022-10-10T09:07:21.514367Z",
     "iopub.status.idle": "2022-10-10T09:07:21.531898Z",
     "shell.execute_reply": "2022-10-10T09:07:21.531247Z",
     "shell.execute_reply.started": "2022-10-10T09:07:21.514626Z"
    },
    "tags": []
   },
   "outputs": [],
   "source": [
    "# Training model\n",
    "def train(tr_set,dv_set,config,strict=True):\n",
    "\n",
    "    path = config['path']\n",
    "    device = config['device']\n",
    "    model = config['model'].to(device)\n",
    "    model_name = config['model_name']\n",
    "    warmup_steps = config['warmup_steps']\n",
    "\n",
    "    \"\"\"Training: Initialization\"\"\"\n",
    "    # Tensorboard 实例化\n",
    "    # writer = SummaryWriter(path + 'model/transformer/log/'+ model_name)\n",
    "    writer = SummaryWriter(config['save_path'].split('.')[0])\n",
    "    n_epochs = config['n_epochs']\n",
    "    # 均方误差损失 Mean Squared error loss\n",
    "    criterion = torch.nn.MSELoss(reduction='mean')\n",
    "    # setup optimizer\n",
    "    optimizer = getattr(torch.optim,config['optimizer'])(model.parameters(),**config['optim_hparas'])\n",
    "    # lr scheduler\n",
    "    scheduler = get_cosine_schedule_with_warmup(optimizer, warmup_steps, n_epochs)\n",
    "    min_mse = 10000\n",
    "    loss_record = {'train': [], 'dev': []}\n",
    "    r2_record = {'train': [], 'dev': []}\n",
    "    early_stop_cnt = 0\n",
    "    epoch = 0\n",
    "\n",
    "    # 断点续训\n",
    "    if os.path.exists(config['save_path']):\n",
    "        print('load checkpoint from %s' % config['save_path'])\n",
    "        checkpoint = torch.load(config['save_path'], map_location='cpu')\n",
    "        # model.load_state_dict({k.replace('module.',''):v for k,v in checkpoint['model'].items()},strict=strict)\n",
    "        model.load_state_dict(checkpoint['model'],strict=strict)\n",
    "        optimizer.load_state_dict(checkpoint['optimizer'])\n",
    "        epoch = checkpoint['epoch'] + 1\n",
    "        scheduler = get_cosine_schedule_with_warmup(optimizer,warmup_steps,n_epochs,last_epoch=epoch)\n",
    "\n",
    "    while epoch < n_epochs:\n",
    "        model.train()                                   # set model to training mode\n",
    "        total_loss = 0\n",
    "        preds_list = []\n",
    "        reals_list = []\n",
    "        loop = tqdm(enumerate(tr_set), total=len(tr_set), leave=False, ncols=100)\n",
    "        for index, (x,y) in loop:                              # iterate through the dataloader\n",
    "            optimizer.zero_grad()                       # set gradient to zero\n",
    "            x,y = x.to(device), y.to(device)             # move data to device (cpu/cuda)\n",
    "            pred = model(x)                             # forward pass (compute output)\n",
    "            mse_loss = criterion(pred,y)                # compute loss\n",
    "            mse_loss.backward()                         # compute gradient (backpropagation)\n",
    "            optimizer.step()                            # update model with optimizer\n",
    "            mse_loss_np = mse_loss.detach().cpu().item()\n",
    "            preds_list.append(pred.detach().cpu().numpy())   # accumulate predicting results\n",
    "            reals_list.append(y.cpu().numpy())\n",
    "            loop.set_description(f'Epoch [{epoch}/{n_epochs}]')               # set tqdm describution\n",
    "            loop.set_postfix(loss=mse_loss_np)\n",
    "            total_loss += mse_loss_np * len(x)                               # accumulate loss\n",
    "        tr_mse = total_loss / len(tr_set.dataset)                            # compute averaged loss\n",
    "        preds_list, reals_list = np.concatenate(preds_list,axis=0), np.concatenate(reals_list,axis=0)\n",
    "        tr_r2 = r2_score(reals_list, preds_list)                              # compute average r2\n",
    "        loss_record['train'].append(tr_mse)                                  # add loss to record\n",
    "        scheduler.step()                                                     # update learning rate\n",
    "\n",
    "        # after each epoch, test model on the validation set.\n",
    "        model.eval()\n",
    "        total_loss = 0\n",
    "        preds_list = []\n",
    "        reals_list = []\n",
    "        for x,y in dv_set:\n",
    "            x, y  = x.to(device),y.to(device)\n",
    "            with torch.no_grad():                                  # disable gradient calculation\n",
    "                pred = model(x)\n",
    "                mse_loss = criterion(pred,y)\n",
    "                total_loss += mse_loss.detach().cpu().item() * len(x)   # accumulate loss\n",
    "                preds_list.append(pred.detach().cpu().numpy())   # accumulate predicting results\n",
    "                reals_list.append(y.cpu().numpy())\n",
    "\n",
    "        dv_mse = total_loss / len(dv_set.dataset)                 # compute averaged loss\n",
    "        preds_list, reals_list = np.concatenate(preds_list,axis=0), np.concatenate(reals_list,axis=0)\n",
    "        dv_r2 = r2_score(reals_list, preds_list)                              # compute average r2\n",
    "\n",
    "        # Save model if your model improved\n",
    "        if dv_mse < min_mse:\n",
    "            min_mse = dv_mse\n",
    "            print('Saving best model available for (epoch = {:4d}, lr = {:.4f},  loss = {:.4f}, val_loss = {:.4f}, r2 = {}, val_r2 = {})'\n",
    "                  .format(epoch+1, scheduler.get_last_lr()[0], tr_mse, min_mse, tr_r2, dv_r2))\n",
    "            state = {'model': model.state_dict(), 'optimizer': optimizer.state_dict(), 'epoch': epoch}\n",
    "            torch.save(state, config['save_path'])            # Save model to specified path\n",
    "            early_stop_cnt = 0\n",
    "        else:\n",
    "            early_stop_cnt +=1\n",
    "\n",
    "        # visualization loss by tensorboard\n",
    "        writer.add_scalar('Traing MSE', tr_mse, epoch)\n",
    "        writer.add_scalar('Traing R2', tr_r2, epoch)\n",
    "        writer.add_scalar('Testing MSE', dv_mse, epoch)\n",
    "        writer.add_scalar('Testing R2', dv_r2, epoch)\n",
    "        writer.add_scalar('Learning rate', scheduler.get_last_lr()[0], epoch)\n",
    "\n",
    "        # add module weight into Tensorboard\n",
    "        #writer.add_histogram(tag='layer', values=model.layer.weight,global_step=epoch)\n",
    "        epoch += 1\n",
    "        loss_record['dev'].append(dv_mse)\n",
    "\n",
    "        if early_stop_cnt > config['early_stop']:\n",
    "            # stop training if your model stop improving for 'config['early_stop']' epochs\n",
    "            break\n",
    "    print('Finished training after {} epochs'.format(epoch))\n",
    "    return min_mse,loss_record\n",
    "\n",
    "def evaluation(dataloader, config):\n",
    "    print('Loading {} model to evaluation'.format(config['save_path'].split('/')[-1]))\n",
    "    checkpoint = torch.load(config['save_path'])\n",
    "    model = config['model'].to(config['device']) \n",
    "    model.load_state_dict(checkpoint['model'])\n",
    "    model.eval()                                 # set model to evalutation mode\n",
    "    preds, reals = [], []\n",
    "    for x,y in dataloader:                             # iterate through the dataloader\n",
    "        x = x.to(config['device'])                         # move data to device (cpu/cuda)\n",
    "        with torch.no_grad():                    # disable gradient calculation\n",
    "            pred = model(x)                      # forward pass (compute output)\n",
    "            preds.append(pred.detach().cpu())    # collect prediction\n",
    "            reals.append(y)\n",
    "    preds = torch.cat(preds, dim=0).numpy()      # concatenate all predictions and convert to a numpy array\n",
    "    reals = torch.cat(reals, dim=0).numpy()\n",
    "    r2 = r2_score(reals, preds)\n",
    "    rmse = sqrt(mean_squared_error(reals, preds))\n",
    "    mae = mean_absolute_error(reals, preds)\n",
    "    print('RMSE is {}, MAE is {}, R2 is {}:'.format(rmse, mae, r2))\n",
    "    return preds,[rmse, mae, r2]"
   ]
  },
  {
   "cell_type": "markdown",
   "id": "953fef03",
   "metadata": {},
   "source": [
    "## Load data"
   ]
  },
  {
   "cell_type": "code",
   "execution_count": 7,
   "id": "873b489e",
   "metadata": {
    "execution": {
     "iopub.execute_input": "2022-10-10T09:05:10.403724Z",
     "iopub.status.busy": "2022-10-10T09:05:10.403459Z",
     "iopub.status.idle": "2022-10-10T09:05:20.288634Z",
     "shell.execute_reply": "2022-10-10T09:05:20.288006Z",
     "shell.execute_reply.started": "2022-10-10T09:05:10.403703Z"
    },
    "tags": []
   },
   "outputs": [],
   "source": [
    "data1 = np.load(file_path + 'numpy/NA_d_array_14.npz',allow_pickle=True)\n",
    "xtrain,ytrain,xtest,ytest,ytrain_,ytest_ = data1['a'],data1['b'],data1['c'],data1['d'],data1['e'],data1['f']\n",
    "xtrain, xtest = xtrain[:,-10:,:], xtest[:,-10:,:]"
   ]
  },
  {
   "cell_type": "code",
   "execution_count": 10,
   "id": "09ec013a",
   "metadata": {
    "execution": {
     "iopub.execute_input": "2022-10-10T09:05:20.289556Z",
     "iopub.status.busy": "2022-10-10T09:05:20.289438Z",
     "iopub.status.idle": "2022-10-10T09:05:20.294046Z",
     "shell.execute_reply": "2022-10-10T09:05:20.293590Z",
     "shell.execute_reply.started": "2022-10-10T09:05:20.289544Z"
    }
   },
   "outputs": [],
   "source": [
    "# 提取归一化化的均值std.mean_和方差var_，使用公式反归一化\n",
    "std = pd.read_csv(file_path + 'normalization_params/normalization_params_D_no2-idx-0')\n",
    "std_no2 = std['std'][0]\n",
    "std_mean = std['mean'][0]"
   ]
  },
  {
   "cell_type": "markdown",
   "id": "9709d197",
   "metadata": {},
   "source": [
    "### Seting model parameters"
   ]
  },
  {
   "cell_type": "code",
   "execution_count": 13,
   "id": "b367d0bb",
   "metadata": {
    "execution": {
     "iopub.execute_input": "2022-10-10T09:07:32.797735Z",
     "iopub.status.busy": "2022-10-10T09:07:32.797453Z",
     "iopub.status.idle": "2022-10-10T09:07:34.705450Z",
     "shell.execute_reply": "2022-10-10T09:07:34.704818Z",
     "shell.execute_reply.started": "2022-10-10T09:07:32.797713Z"
    }
   },
   "outputs": [],
   "source": [
    "config = {\n",
    "            'path': file_path_model,                       # 工作目录路径 (str)\n",
    "            'model_name': 'Transformer',# 读取和保存的模型名称 (str)\n",
    "            'n_epochs': 500,                                            # 模型训练epoch (int)\n",
    "            'optimizer': 'AdamW',                                        # 模型的优化器 (str)\n",
    "            'optim_hparas': {'lr':0.0001},                               # 最大学习率 (dict)\n",
    "            'warmup_steps': 20,                                          # warmup到达最大学习率的步数 (int)\n",
    "            'early_stop': 50,                                           # 早停步数 (int)\n",
    "            'device': 'cuda:1' if torch.cuda.is_available() else 'cpu',  # GPU (str)\n",
    "            'device_ids' : [1]\n",
    "        }\n",
    "config['model'] = Transformermodel(targets=1, d_model=36, nhead=2, timesteps=10, n_layers=3).to(config['device'])\n",
    "config['save_path'] = file_path_model + 'model/transformer/transformer.pth'"
   ]
  },
  {
   "cell_type": "markdown",
   "id": "67c3de7f",
   "metadata": {},
   "source": [
    "### Training model in train sets"
   ]
  },
  {
   "cell_type": "code",
   "execution_count": 26,
   "id": "db1be9b5",
   "metadata": {
    "execution": {
     "iopub.execute_input": "2022-09-30T01:32:34.001912Z",
     "iopub.status.busy": "2022-09-30T01:32:34.001605Z",
     "iopub.status.idle": "2022-09-30T01:32:34.007559Z",
     "shell.execute_reply": "2022-09-30T01:32:34.006858Z",
     "shell.execute_reply.started": "2022-09-30T01:32:34.001887Z"
    },
    "tags": []
   },
   "outputs": [
    {
     "name": "stdout",
     "output_type": "stream",
     "text": [
      "Finished reading the Dataset (2126158 samples found, each dim = torch.Size([2126158, 10, 36]), target dim = torch.Size([2126158, 1]))\n",
      "Finished reading the Dataset (470406 samples found, each dim = torch.Size([470406, 10, 36]), target dim = torch.Size([470406, 1]))\n"
     ]
    }
   ],
   "source": [
    "# load dataloader\n",
    "tr_set = Mydataloader(xtrain, ytrain.reshape(-1, 1), batch_size=2560)\n",
    "dv_set = Mydataloader(xtest, ytest.reshape(-1, 1), batch_size=2560)"
   ]
  },
  {
   "cell_type": "code",
   "execution_count": null,
   "id": "7a560015",
   "metadata": {
    "execution": {
     "iopub.execute_input": "2022-09-30T01:34:06.861894Z",
     "iopub.status.busy": "2022-09-30T01:34:06.861595Z",
     "iopub.status.idle": "2022-09-30T03:05:02.649161Z",
     "shell.execute_reply": "2022-09-30T03:05:02.648718Z",
     "shell.execute_reply.started": "2022-09-30T01:34:06.861869Z"
    },
    "scrolled": true,
    "tags": []
   },
   "outputs": [],
   "source": [
    "# training model\n",
    "min_mse, loss_record = train(tr_set, dv_set, config)"
   ]
  },
  {
   "cell_type": "markdown",
   "id": "b536f0a2",
   "metadata": {
    "execution": {
     "iopub.execute_input": "2022-09-22T07:04:10.592376Z",
     "iopub.status.busy": "2022-09-22T07:04:10.591859Z",
     "iopub.status.idle": "2022-09-22T07:04:10.600382Z",
     "shell.execute_reply": "2022-09-22T07:04:10.600013Z",
     "shell.execute_reply.started": "2022-09-22T07:04:10.592351Z"
    }
   },
   "source": [
    "### Cross validation"
   ]
  },
  {
   "cell_type": "code",
   "execution_count": null,
   "id": "e74a5b51",
   "metadata": {
    "execution": {
     "iopub.execute_input": "2022-10-10T09:07:43.716062Z",
     "iopub.status.busy": "2022-10-10T09:07:43.715780Z",
     "iopub.status.idle": "2022-10-10T12:11:35.928609Z",
     "shell.execute_reply": "2022-10-10T12:11:35.927823Z",
     "shell.execute_reply.started": "2022-10-10T09:07:43.716039Z"
    },
    "scrolled": true
   },
   "outputs": [],
   "source": [
    "kfold = KFold(n_splits=5, shuffle=False)\n",
    "\n",
    "tr_results_cv, dv_results_cv = [], []\n",
    "results_list = []\n",
    "for i, j in enumerate(kfold.split(xtrain, ytrain)):\n",
    "    idx_train, idx_test = j[0], j[1]\n",
    "    # define model\n",
    "    # config['model'] = Transformermodel(targets=1, d_model=36, nhead=2, timesteps=10, n_layers=3)\n",
    "    config['save_path'] = file_path_model + 'model/transformer/transformer_cv_' + str(i) + '.pth'\n",
    "    # generating dataloader\n",
    "    tr_set = Mydataloader(xtrain[idx_train], ytrain[idx_train].reshape(-1, 1), batch_size=2560)\n",
    "    dv_set = Mydataloader(xtrain[idx_test], ytrain[idx_test].reshape(-1, 1), batch_size=2560)\n",
    "    # training\n",
    "    min_mse, loss_record = train(tr_set, dv_set, config)\n",
    "    # evaluation\n",
    "    print('Model performance in training datasets is:')\n",
    "    tr_preds, tr_metric = evaluation(tr_set, config)\n",
    "    print('Model performance in testing dataset is:')\n",
    "    dv_preds, dv_metric = evaluation(dv_set, config)\n",
    "    # print(ytrain[idx_test].shape, dv_preds.shape, ytrain_[idx_test].shape)\n",
    "    results = np.concatenate([ytrain[idx_test].reshape(-1,1), dv_preds, ytrain_[idx_test]], axis=1)\n",
    "\n",
    "    results_list.append(results)\n",
    "    tr_results_cv.append(tr_metric)\n",
    "    dv_results_cv.append(dv_metric)\n",
    "np.savez(file_path + 'cross_validation/NA_' + freq + '_predictions_' + model_sty + '.npz', cv0 = results_list[0], cv01 = results_list[1], cv02 = results_list[2], cv3 = results_list[3], cv4 = results_list[4])"
   ]
  },
  {
   "cell_type": "code",
   "execution_count": 16,
   "id": "a367fd45",
   "metadata": {
    "execution": {
     "iopub.execute_input": "2022-10-11T02:54:56.673814Z",
     "iopub.status.busy": "2022-10-11T02:54:56.673530Z",
     "iopub.status.idle": "2022-10-11T02:54:56.679008Z",
     "shell.execute_reply": "2022-10-11T02:54:56.678438Z",
     "shell.execute_reply.started": "2022-10-11T02:54:56.673793Z"
    }
   },
   "outputs": [
    {
     "data": {
      "text/plain": [
       "([[0.41159928197302253, 0.2961635, 0.8256935938667053],\n",
       "  [0.39853569765435076, 0.28924417, 0.836187338164613],\n",
       "  [0.4007406983857767, 0.28927538, 0.8360350248020256],\n",
       "  [0.3984368642166151, 0.29006544, 0.836410060122708],\n",
       "  [0.3986128439941281, 0.2894411, 0.8372335218995646]],\n",
       " array([0.40158508, 0.29083792, 0.83431191]))"
      ]
     },
     "execution_count": 16,
     "metadata": {},
     "output_type": "execute_result"
    }
   ],
   "source": [
    "dv_results_cv, np.array(dv_results_cv).mean(axis=0)"
   ]
  },
  {
   "cell_type": "markdown",
   "id": "eae9cbd7",
   "metadata": {},
   "source": [
    "## SHAP values"
   ]
  },
  {
   "cell_type": "code",
   "execution_count": 12,
   "id": "de6fbc0c",
   "metadata": {
    "execution": {
     "iopub.execute_input": "2022-10-03T12:53:56.056430Z",
     "iopub.status.busy": "2022-10-03T12:53:56.056060Z",
     "iopub.status.idle": "2022-10-03T12:53:56.207719Z",
     "shell.execute_reply": "2022-10-03T12:53:56.206963Z",
     "shell.execute_reply.started": "2022-10-03T12:53:56.056409Z"
    }
   },
   "outputs": [],
   "source": [
    "np.random.seed(100)\n",
    "background = xtrain[np.random.choice(xtrain.shape[0], 1000, replace=True)]\n",
    "np.random.seed(100)\n",
    "X = xtrain[np.random.choice(xtrain.shape[0], 500000, replace=True)]\n",
    "background, X = torch.FloatTensor(background), torch.FloatTensor(X)"
   ]
  },
  {
   "cell_type": "code",
   "execution_count": null,
   "id": "2fc009b1",
   "metadata": {
    "execution": {
     "iopub.execute_input": "2022-10-03T12:54:11.571612Z",
     "iopub.status.busy": "2022-10-03T12:54:11.571264Z"
    },
    "scrolled": true
   },
   "outputs": [
    {
     "name": "stderr",
     "output_type": "stream",
     "text": [
      "Using a non-full backward hook when the forward contains multiple autograd Nodes is deprecated and will be removed in future versions. This hook will be missing some grad_input. Please use register_full_backward_hook to get the documented behavior.\n"
     ]
    }
   ],
   "source": [
    "# load model and parameters\n",
    "config['save_path'] = file_path_model + 'model/transformer/transformer.pth'\n",
    "checkpoint = torch.load(config['save_path'])\n",
    "model = config['model']\n",
    "model.load_state_dict(checkpoint['model'])\n",
    "model.eval()  \n",
    "model.to(config['device'])\n",
    "# shap values\n",
    "explainer = shap.DeepExplainer(model, background.to(config['device']))\n",
    "shap_values = explainer.shap_values(X.to(config['device']))"
   ]
  },
  {
   "cell_type": "code",
   "execution_count": null,
   "id": "6e2657b8",
   "metadata": {},
   "outputs": [],
   "source": [
    "shap_values.shape"
   ]
  },
  {
   "cell_type": "code",
   "execution_count": null,
   "id": "da01a6ae",
   "metadata": {},
   "outputs": [],
   "source": [
    "# save shap_value\n",
    "np.save(file_path + 'shap_values/' + model_sty + '_shap_values_' + freq, shap_values)\n",
    "np.save(file_path + 'shap_values/' + model_sty + '_expected_value_' + freq, explainer.expected_value)"
   ]
  },
  {
   "cell_type": "code",
   "execution_count": 21,
   "id": "d8ee13c5",
   "metadata": {
    "execution": {
     "iopub.execute_input": "2022-09-25T10:03:38.486684Z",
     "iopub.status.busy": "2022-09-25T10:03:38.486076Z",
     "iopub.status.idle": "2022-09-25T10:03:38.729190Z",
     "shell.execute_reply": "2022-09-25T10:03:38.728691Z",
     "shell.execute_reply.started": "2022-09-25T10:03:38.486662Z"
    }
   },
   "outputs": [],
   "source": [
    "# 加载计算好的shap_value\n",
    "shap_values = np.load(file_path + 'shap_values/' + model_sty + '_shap_values_' + freq + '.npy')\n",
    "# expected_value = np.load(file_path + 'shap_values/' + model_sty + '_expected_value_' + freq + '.npy')\n",
    "# load features name\n",
    "cols = pd.read_csv(file_path + 'features_name/features_name_' + freq)\n",
    "cols = cols[\"0\"].to_list()"
   ]
  },
  {
   "cell_type": "code",
   "execution_count": 32,
   "id": "6d67548e",
   "metadata": {
    "execution": {
     "iopub.execute_input": "2022-09-25T10:06:00.910289Z",
     "iopub.status.busy": "2022-09-25T10:06:00.909712Z",
     "iopub.status.idle": "2022-09-25T10:06:00.914571Z",
     "shell.execute_reply": "2022-09-25T10:06:00.914052Z",
     "shell.execute_reply.started": "2022-09-25T10:06:00.910262Z"
    }
   },
   "outputs": [
    {
     "data": {
      "text/plain": [
       "((500000, 10, 36), (500000, 10, 36), 36)"
      ]
     },
     "execution_count": 32,
     "metadata": {},
     "output_type": "execute_result"
    }
   ],
   "source": [
    "shap_values.shape, X.numpy().shape, len(cols)"
   ]
  },
  {
   "cell_type": "code",
   "execution_count": 33,
   "id": "ae10ba50",
   "metadata": {
    "execution": {
     "iopub.execute_input": "2022-09-25T10:06:14.726576Z",
     "iopub.status.busy": "2022-09-25T10:06:14.726084Z",
     "iopub.status.idle": "2022-09-25T10:06:54.349116Z",
     "shell.execute_reply": "2022-09-25T10:06:54.348632Z",
     "shell.execute_reply.started": "2022-09-25T10:06:14.726552Z"
    }
   },
   "outputs": [
    {
     "data": {
      "image/png": "[encoded data removed]",
      "text/plain": [
       "<Figure size 576x684 with 2 Axes>"
      ]
     },
     "metadata": {
      "needs_background": "light"
     },
     "output_type": "display_data"
    }
   ],
   "source": [
    "shap.summary_plot(np.mean(shap_values, axis=1), np.mean(X.numpy(), axis=1), feature_names=cols)"
   ]
  },
  {
   "cell_type": "code",
   "execution_count": 34,
   "id": "1ef6f9be",
   "metadata": {
    "execution": {
     "iopub.execute_input": "2022-09-25T10:06:54.349892Z",
     "iopub.status.busy": "2022-09-25T10:06:54.349776Z",
     "iopub.status.idle": "2022-09-25T10:06:54.770137Z",
     "shell.execute_reply": "2022-09-25T10:06:54.769648Z",
     "shell.execute_reply.started": "2022-09-25T10:06:54.349881Z"
    }
   },
   "outputs": [
    {
     "data": {
      "image/png": "[encoded data removed]",
      "text/plain": [
       "<Figure size 576x684 with 1 Axes>"
      ]
     },
     "metadata": {
      "needs_background": "light"
     },
     "output_type": "display_data"
    }
   ],
   "source": [
    "shap.summary_plot(np.mean(shap_values, axis=1), np.mean(X.numpy(), axis=1), feature_names=cols, plot_type='bar')"
   ]
  },
  {
   "cell_type": "markdown",
   "id": "9b5333cc",
   "metadata": {},
   "source": [
    "## Predictions"
   ]
  },
  {
   "cell_type": "code",
   "execution_count": null,
   "id": "e4cfd547",
   "metadata": {
    "execution": {
     "iopub.execute_input": "2022-09-30T01:32:42.585690Z",
     "iopub.status.busy": "2022-09-30T01:32:42.585414Z",
     "iopub.status.idle": "2022-09-30T01:33:06.309954Z",
     "shell.execute_reply": "2022-09-30T01:33:06.309447Z",
     "shell.execute_reply.started": "2022-09-30T01:32:42.585669Z"
    }
   },
   "outputs": [],
   "source": [
    "print('Model performance in training datasets is:')\n",
    "tr_preds, tr_metric = evaluation(tr_set, config)\n",
    "print('Model performance in testing dataset is:')\n",
    "dv_preds, dv_metric = evaluation(dv_set, config)"
   ]
  },
  {
   "cell_type": "code",
   "execution_count": 18,
   "id": "2944f245",
   "metadata": {
    "execution": {
     "iopub.execute_input": "2022-09-30T01:09:44.450960Z",
     "iopub.status.busy": "2022-09-30T01:09:44.450835Z",
     "iopub.status.idle": "2022-09-30T01:09:44.458333Z",
     "shell.execute_reply": "2022-09-30T01:09:44.457683Z",
     "shell.execute_reply.started": "2022-09-30T01:09:44.450949Z"
    }
   },
   "outputs": [],
   "source": [
    "# 对整体数据集进行预测  predicting\n",
    "real_train = ytrain * np.sqrt(std_no2) + std_mean\n",
    "# pre_train = model.predict(xtrain)\n",
    "pre_train = tr_preds\n",
    "pre_train = pre_train * np.sqrt(std_no2) + std_mean\n",
    "\n",
    "real_test = ytest * np.sqrt(std_no2) + std_mean\n",
    "# pre_test = model.predict(xtest)\n",
    "pre_test = dv_preds\n",
    "pre_test = pre_test * np.sqrt(std_no2) + std_mean"
   ]
  },
  {
   "cell_type": "code",
   "execution_count": null,
   "id": "08b94e49",
   "metadata": {
    "execution": {
     "iopub.execute_input": "2022-09-30T01:28:01.144307Z",
     "iopub.status.busy": "2022-09-30T01:28:01.143821Z",
     "iopub.status.idle": "2022-09-30T01:28:01.176450Z",
     "shell.execute_reply": "2022-09-30T01:28:01.175649Z",
     "shell.execute_reply.started": "2022-09-30T01:28:01.144285Z"
    }
   },
   "outputs": [],
   "source": [
    "# 评价模型性能  Evaluation of model performance\n",
    "# 训练集 Training dataset\n",
    "mse = mean_squared_error(real_train, pre_train)\n",
    "rmse = sqrt(mse)\n",
    "mae = mean_absolute_error(real_train, pre_train)\n",
    "r2 = r2_score(real_train, pre_train)\n",
    "print('模型在训练集性能：','均方误差：%.6f' % mse, '均方根误差：%.6f' % rmse, '平均绝对误差：%.6f' % mae, 'R2：%.6f' % r2)\n",
    "# 测试集  Testing dataset\n",
    "val_mse = mean_squared_error(real_test, pre_test)\n",
    "val_rmse = sqrt(val_mse)\n",
    "val_mae = mean_absolute_error(real_test, pre_test)\n",
    "val_r2 = r2_score(real_test, pre_test)\n",
    "print('模型在测试集性能：','均方误差：%.6f' % val_mse, '均方根误差：%.6f' % val_rmse, '平均绝对误差：%.6f' % val_mae, 'R2：%.6f' % val_r2)"
   ]
  },
  {
   "cell_type": "code",
   "execution_count": 51,
   "id": "41944e69",
   "metadata": {
    "execution": {
     "iopub.execute_input": "2022-09-25T10:18:49.542806Z",
     "iopub.status.busy": "2022-09-25T10:18:49.542515Z",
     "iopub.status.idle": "2022-09-25T10:18:57.917834Z",
     "shell.execute_reply": "2022-09-25T10:18:57.917374Z",
     "shell.execute_reply.started": "2022-09-25T10:18:49.542785Z"
    }
   },
   "outputs": [],
   "source": [
    "# 将预测数据和真实值匹配，并添加时间索引和站点名  megre predictions\n",
    "test_res = pd.concat([pd.DataFrame(real_test,columns=[list_col[0]]),pd.DataFrame(pre_test,columns=[col_name])\n",
    "                         ,pd.DataFrame(ytest_[:,1:],columns=['index','station'])],axis=1)\n",
    "train_res = pd.concat([pd.DataFrame(real_train,columns=[list_col[0]]),pd.DataFrame(pre_train,columns=[col_name])\n",
    "                          ,pd.DataFrame(ytrain_[:,1:],columns=['index','station'])],axis=1)\n",
    "data_res = pd.concat([train_res,test_res],axis=0)\n",
    "data_res['index'] = (pd.to_datetime(data_res['index']) + pd.Timedelta('-1 days')).astype(str)"
   ]
  },
  {
   "cell_type": "code",
   "execution_count": 53,
   "id": "ac0ba7b6",
   "metadata": {
    "execution": {
     "iopub.execute_input": "2022-09-25T10:19:13.162526Z",
     "iopub.status.busy": "2022-09-25T10:19:13.162238Z",
     "iopub.status.idle": "2022-09-25T10:19:14.567716Z",
     "shell.execute_reply": "2022-09-25T10:19:14.567194Z",
     "shell.execute_reply.started": "2022-09-25T10:19:13.162504Z"
    }
   },
   "outputs": [],
   "source": [
    "# 读取预测数据，并加入其中 load predictions dataset\n",
    "data_ = pd.read_csv(file_path + file_name_pre)"
   ]
  },
  {
   "cell_type": "code",
   "execution_count": 55,
   "id": "5f931f78",
   "metadata": {
    "execution": {
     "iopub.execute_input": "2022-09-25T10:19:39.128582Z",
     "iopub.status.busy": "2022-09-25T10:19:39.128298Z",
     "iopub.status.idle": "2022-09-25T10:19:40.382669Z",
     "shell.execute_reply": "2022-09-25T10:19:40.382151Z",
     "shell.execute_reply.started": "2022-09-25T10:19:39.128561Z"
    }
   },
   "outputs": [],
   "source": [
    "data_pre = pd.merge(data_, data_res.drop(columns=list_col[0]),how='left',on=['index','station'])"
   ]
  },
  {
   "cell_type": "code",
   "execution_count": 59,
   "id": "1dc248b6",
   "metadata": {
    "execution": {
     "iopub.execute_input": "2022-09-25T10:20:32.454385Z",
     "iopub.status.busy": "2022-09-25T10:20:32.454084Z",
     "iopub.status.idle": "2022-09-25T10:20:44.934276Z",
     "shell.execute_reply": "2022-09-25T10:20:44.933478Z",
     "shell.execute_reply.started": "2022-09-25T10:20:32.454363Z"
    }
   },
   "outputs": [],
   "source": [
    "# 将预测值写入数据库  writing predictions dataset\n",
    "data_pre.to_csv(file_path + file_name_pre,index=False)"
   ]
  },
  {
   "cell_type": "code",
   "execution_count": null,
   "id": "dc3fd2af",
   "metadata": {},
   "outputs": [],
   "source": []
  }
 ],
 "metadata": {
  "kernelspec": {
   "display_name": "Python 3.8.13 ('pytorch')",
   "language": "python",
   "name": "python3"
  },
  "language_info": {
   "codemirror_mode": {
    "name": "ipython",
    "version": 3
   },
   "file_extension": ".py",
   "mimetype": "text/x-python",
   "name": "python",
   "nbconvert_exporter": "python",
   "pygments_lexer": "ipython3",
   "version": "3.8.13"
  },
  "vscode": {
   "interpreter": {
    "hash": "6ee4c79ab8c0de0174cef822cfb3cd637eb6a9345c7b38a0cd4f70b7aa9ca54c"
   }
  }
 },
 "nbformat": 4,
 "nbformat_minor": 5
}
