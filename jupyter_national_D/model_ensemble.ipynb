{
 "cells": [
  {
   "cell_type": "code",
   "execution_count": 1,
   "metadata": {
    "collapsed": true
   },
   "outputs": [],
   "source": [
    "import pandas as pd\n",
    "import numpy as np\n",
    "import matplotlib.pyplot as plt\n",
    "import seaborn as sns\n",
    "from sklearn.metrics import r2_score,mean_squared_error,mean_absolute_error, median_absolute_error\n",
    "from math import sqrt\n",
    "pd.set_option('display.float_format',lambda x : '%.5f' % x)"
   ]
  },
  {
   "cell_type": "code",
   "execution_count": 2,
   "metadata": {},
   "outputs": [],
   "source": [
    "# sns.color_palette('coolwarm',20)\n",
    "# sns.color_palette('RdBu_r',20)\n",
    "# sns.color_palette('turbo',20)\n",
    "# sns.color_palette('seismic',30)"
   ]
  },
  {
   "cell_type": "code",
   "execution_count": 4,
   "metadata": {
    "collapsed": false,
    "pycharm": {
     "name": "#%%\n"
    }
   },
   "outputs": [],
   "source": [
    "# 设置全局控制的变量\n",
    "freq = 'D'\n",
    "freq_ = 'd'\n",
    "region = 'NA'\n",
    "\n",
    "if freq == 'H':\n",
    "    data_num = 17520\n",
    "    list_col = ['NO2+h','NO2-h','NO2-2h','NO2-3h']\n",
    "    file_name = 'pol_mete_' + region + '_' + freq + '.csv'\n",
    "    file_name_pre = 'pol_mete_' + region + '_' + freq + '_predict.csv'\n",
    "if freq == '3H':\n",
    "    data_num = 5840\n",
    "    list_col = ['NO2+3h','NO2-3h','NO2-6h','NO2-9h']\n",
    "    file_name = 'pol_mete_' + region + '_' + freq + '.csv'\n",
    "    file_name_pre = 'pol_mete_' + region + '_' + freq + '_predict.csv'\n",
    "if freq == 'D':\n",
    "    data_num = 730\n",
    "    list_col = ['NO2+d','NO2-d','NO2-2d','NO2-3d']\n",
    "    file_name = 'pol_mete_' + region + '_' + freq + '.csv'\n",
    "    file_name_pre = 'pol_mete_' + region + '_' + freq + '_predict.csv'\n",
    "\n",
    "file_path = 'data/'\n",
    "file_path_model = ''"
   ]
  },
  {
   "cell_type": "markdown",
   "metadata": {},
   "source": [
    "## Load predictions"
   ]
  },
  {
   "cell_type": "code",
   "execution_count": 7,
   "metadata": {
    "collapsed": false,
    "pycharm": {
     "name": "#%%\n"
    }
   },
   "outputs": [],
   "source": [
    "data = pd.read_csv(file_path + 'demo_predictions.csv')"
   ]
  },
  {
   "cell_type": "code",
   "execution_count": 7,
   "metadata": {
    "collapsed": false,
    "pycharm": {
     "name": "#%%\n"
    }
   },
   "outputs": [],
   "source": [
    "# data = data[['index','station','lon','lat',list_col[0],list_col[0]+'_xgb',list_col[0]+'_gru',list_col[0]+'_transformer']]\n",
    "# 删除神经网络缺失值\n",
    "# data =data.dropna(axis=0,how='any')\n",
    "data['index'] = pd.to_datetime(data['index'])"
   ]
  },
  {
   "cell_type": "code",
   "execution_count": 8,
   "metadata": {},
   "outputs": [],
   "source": [
    "# Spliting train and test dataset\n",
    "train = data[data['index'].dt.year < 2020]\n",
    "test = data[data['index'].dt.year == 2020]"
   ]
  },
  {
   "cell_type": "markdown",
   "metadata": {},
   "source": [
    "## Ensemble model"
   ]
  },
  {
   "cell_type": "code",
   "execution_count": 9,
   "metadata": {},
   "outputs": [],
   "source": [
    "# # 加权集成模型计算 calculation of ensemble model by weighting averages\n",
    "def ensemble_model(train, data):\n",
    "    r2_list = []\n",
    "    for sta,group in train.groupby('station'):\n",
    "        # print(group.shape)\n",
    "        r2_transformer = r2_score(group[list_col[0]], group['NO2+' + freq_  + '_transformer'])\n",
    "        r2_xgb = r2_score(group[list_col[0]], group['NO2+' + freq_ + '_xgb'])\n",
    "        r2_gru = r2_score(group[list_col[0]], group['NO2+' + freq_ +'_gru'])\n",
    "        sum = r2_transformer + r2_xgb + r2_gru\n",
    "        coe_transformer = r2_transformer / sum\n",
    "        coe_xgb = r2_xgb / sum\n",
    "        coe_gru = (r2_gru) / sum\n",
    "        r2_list.append([sta, r2_transformer, r2_xgb, r2_gru, coe_transformer, coe_xgb, coe_gru])\n",
    "\n",
    "    r2_list = pd.DataFrame(np.array(r2_list),columns=['station','r2_transformer','r2_xgb','r2_gru','coe_transformer','coe_xgb','coe_gru'])\n",
    "\n",
    "    r2_list['coe_transformer'] = r2_list['coe_transformer'].astype('float')\n",
    "    r2_list['coe_xgb'] = r2_list['coe_xgb'].astype('float')\n",
    "    r2_list['coe_gru'] = r2_list['coe_gru'].astype('float')\n",
    "    r2_list['r2_transformer'] = r2_list['r2_transformer'].astype('float')\n",
    "    r2_list['r2_xgb'] = r2_list['r2_xgb'].astype('float')\n",
    "    r2_list['r2_gru'] = r2_list['r2_gru'].astype('float')\n",
    "\n",
    "    # print(data['station'].unique().shape, r2_list['station'].unique().shape)\n",
    "    data = pd.merge(data, r2_list, on='station', how='inner')\n",
    "\n",
    "    data['NO2+'+freq_+'_ensemble'] = data['NO2+'+freq_+'_transformer'] * data['coe_transformer'] + data['NO2+'+freq_+'_xgb'] * data['coe_xgb'] + data['NO2+'+freq_+'_gru'] * data['coe_gru']\n",
    "    data['NO2+'+freq_+'_ensemble'] = data['NO2+'+freq_+'_ensemble'].abs()\n",
    "    # data = data[['index','station','lon','lat',list_col[0],list_col[0]+'_transformer',list_col[0]+'_xgb',list_col[0]+'_gru','NO2+'+freq_+'_ensemble']]\n",
    "    data = data[['index','station',list_col[0],list_col[0]+'_transformer',list_col[0]+'_xgb',list_col[0]+'_gru','NO2+'+freq_+'_ensemble']]\n",
    "    return data"
   ]
  },
  {
   "cell_type": "code",
   "execution_count": 10,
   "metadata": {},
   "outputs": [],
   "source": [
    "# calculate\n",
    "data = ensemble_model(train, data)"
   ]
  },
  {
   "cell_type": "markdown",
   "metadata": {},
   "source": [
    "## Evaluation"
   ]
  },
  {
   "cell_type": "code",
   "execution_count": 11,
   "metadata": {
    "collapsed": false,
    "pycharm": {
     "name": "#%%\n"
    }
   },
   "outputs": [],
   "source": [
    "# 对传入的数据，依计算和NO2+3h的rmse和r2 performance metrics\n",
    "def model_evaluation(df):\n",
    "    df_1 = df.drop(columns=['index','station'])\n",
    "    col_name = df_1.columns\n",
    "    MAE = pd.DataFrame(index=range(1),columns=col_name)\n",
    "    RMSE = pd.DataFrame(index=range(1),columns=col_name)\n",
    "    R2 = pd.DataFrame(index=range(1),columns=col_name)\n",
    "    MedAE = pd.DataFrame(index=range(1),columns=col_name)\n",
    "    for i in col_name:\n",
    "        if i != list_col[0]:\n",
    "            real_value = df_1[list_col[0]]\n",
    "            pre_value = df_1[i]\n",
    "            mae = mean_absolute_error(real_value,pre_value)\n",
    "            rmse = sqrt(mean_squared_error(real_value,pre_value))\n",
    "            r2 = r2_score(real_value,pre_value)\n",
    "            medae = median_absolute_error(real_value, pre_value)\n",
    "            MAE[i] = mae\n",
    "            RMSE[i] = rmse\n",
    "            R2[i] = r2\n",
    "            MedAE[i] = medae\n",
    "            print(i, 'R2:',r2, 'RMSE:',rmse, 'mae:',mae, 'MedAE',medae,)\n",
    "\n",
    "    return R2, RMSE, MAE, MedAE"
   ]
  },
  {
   "cell_type": "code",
   "execution_count": 12,
   "metadata": {
    "collapsed": false,
    "pycharm": {
     "name": "#%%\n"
    }
   },
   "outputs": [],
   "source": [
    "train = data[data['index'].dt.year < 2020]\n",
    "test = data[data['index'].dt.year == 2020]"
   ]
  },
  {
   "cell_type": "code",
   "execution_count": 13,
   "metadata": {
    "collapsed": false,
    "pycharm": {
     "name": "#%%\n"
    }
   },
   "outputs": [
    {
     "name": "stdout",
     "output_type": "stream",
     "text": [
      "NO2+d_transformer R2: 0.7707313150256979 RMSE: 9.240477809376552 mae: 6.550211353638694 MedAE 4.659218000000003\n",
      "NO2+d_xgb R2: 0.8140565522076636 RMSE: 8.321708486275881 mae: 5.975943813700956 MedAE 4.333333333333332\n",
      "NO2+d_gru R2: 0.787673863627838 RMSE: 8.892498221401702 mae: 6.326745925800356 MedAE 4.5387270000000015\n",
      "NO2+d_ensemble R2: 0.8025232564687165 RMSE: 8.575906489711842 mae: 6.138748237165968 MedAE 4.414118367145484\n"
     ]
    }
   ],
   "source": [
    "# 训练集模型性能 performance of train-dataset\n",
    "res_train = model_evaluation(train)"
   ]
  },
  {
   "cell_type": "code",
   "execution_count": 14,
   "metadata": {
    "collapsed": false,
    "pycharm": {
     "name": "#%%\n"
    }
   },
   "outputs": [
    {
     "name": "stdout",
     "output_type": "stream",
     "text": [
      "NO2+d_transformer R2: 0.7632748337999657 RMSE: 7.509512010397549 mae: 5.386461153965289 MedAE 3.8487693333333333\n",
      "NO2+d_xgb R2: 0.750604086054625 RMSE: 7.7078662155785365 mae: 5.437810050804811 MedAE 3.833333333333332\n",
      "NO2+d_gru R2: 0.7649825600298719 RMSE: 7.482376317674469 mae: 5.344065513876895 MedAE 3.7989630434782597\n",
      "NO2+d_ensemble R2: 0.7714833988355226 RMSE: 7.378165269937355 mae: 5.270927120073616 MedAE 3.7445919238427967\n"
     ]
    }
   ],
   "source": [
    "# 测试集模型性能 # performance of test-dataset\n",
    "res_test = model_evaluation(test)"
   ]
  },
  {
   "cell_type": "code",
   "execution_count": 15,
   "metadata": {},
   "outputs": [],
   "source": [
    "# save results\n",
    "data.to_csv(file_path + file_name_pre, index=False)"
   ]
  },
  {
   "cell_type": "markdown",
   "metadata": {},
   "source": [
    "## Cross validation"
   ]
  },
  {
   "cell_type": "code",
   "execution_count": 15,
   "metadata": {},
   "outputs": [],
   "source": [
    "# load cross validation predictions\n",
    "model_sty = ['xgb', 'gru', 'transformer']\n",
    "df_cv_xgb = np.load(file_path + 'cross_validation/NA_' + freq + '_predictions_' + model_sty[0] + '.npz', allow_pickle=True)\n",
    "df_cv_gru = np.load(file_path + 'cross_validation/NA_' + freq + '_predictions_' + model_sty[1] + '.npz', allow_pickle=True)\n",
    "df_cv_trans = np.load(file_path + 'cross_validation/NA_' + freq + '_predictions_' + model_sty[2] + '.npz', allow_pickle=True)"
   ]
  },
  {
   "cell_type": "code",
   "execution_count": 16,
   "metadata": {},
   "outputs": [],
   "source": [
    "# load normalization parameters\n",
    "norm_params = pd.read_csv(file_path + 'normalization_params/normalization_params_D_no2-idx-0')\n",
    "norm_std, norm_mean = norm_params['std'][0], norm_params['mean'][0]"
   ]
  },
  {
   "cell_type": "code",
   "execution_count": 17,
   "metadata": {},
   "outputs": [],
   "source": [
    "df_cv_list = []\n",
    "# 按照交叉验证结果进行集成模型结果计算 calculation of CV predictions\n",
    "for i in ['cv0', 'cv01', 'cv02', 'cv3', 'cv4',]:\n",
    "    for df, name in zip([df_cv_xgb, df_cv_gru, df_cv_trans], ['xgb', 'gru', 'transformer']):\n",
    "        df = pd.DataFrame(df[i][:, 1:], columns=[list_col[0] + '_' + name, list_col[0], 'index', 'station'])\n",
    "        df.iloc[:, :2] = df.iloc[:, :2]  * sqrt(norm_std) + norm_mean\n",
    "        if name == 'xgb':\n",
    "            df_cv = df\n",
    "        else:\n",
    "            df_cv = pd.merge(df_cv, df.drop(columns = list_col[0]), on=['index', 'station'], how='left')\n",
    "    df_cv = ensemble_model(train, df_cv)\n",
    "    df_cv_list.append(df_cv)"
   ]
  },
  {
   "cell_type": "code",
   "execution_count": 18,
   "metadata": {},
   "outputs": [
    {
     "name": "stdout",
     "output_type": "stream",
     "text": [
      "CV :  0\n",
      "NO2+d_transformer R2: 0.8257986534892452 RMSE: 8.048376821882368 mae: 5.7909940540623115 MedAE 4.22818510220206\n",
      "NO2+d_xgb R2: 0.8171237870165248 RMSE: 8.246338495618588 mae: 5.8076788429201525 MedAE 4.233070688723528\n",
      "NO2+d_gru R2: 0.845007999370183 RMSE: 7.591667698571052 mae: 5.462334173260056 MedAE 4.03070389841389\n",
      "NO2+d_ensemble R2: 0.8446867461497213 RMSE: 7.599531282626735 mae: 5.45857150433591 MedAE 4.013352755439952\n",
      "CV :  1\n",
      "NO2+d_transformer R2: 0.8364323467957723 RMSE: 7.790036587603887 mae: 5.654201315112127 MedAE 4.160396467969832\n",
      "NO2+d_xgb R2: 0.8190995344852687 RMSE: 8.192390180054508 mae: 5.834110095998496 MedAE 4.244165919582553\n",
      "NO2+d_gru R2: 0.8448224264715626 RMSE: 7.587614615666091 mae: 5.473712033091583 MedAE 4.041025573099944\n",
      "NO2+d_ensemble R2: 0.847740178009078 RMSE: 7.515942431667686 mae: 5.432268963784472 MedAE 4.001536698932924\n",
      "CV :  2\n",
      "NO2+d_transformer R2: 0.8361295620552626 RMSE: 7.8365683731066405 mae: 5.656889852932087 MedAE 4.1712851508463\n",
      "NO2+d_xgb R2: 0.8148608781149728 RMSE: 8.329610995090619 mae: 5.799697779571597 MedAE 4.214311972392927\n",
      "NO2+d_gru R2: 0.8417468384964186 RMSE: 7.7010832351892935 mae: 5.448452129902839 MedAE 4.02366667374228\n",
      "NO2+d_ensemble R2: 0.8446282186367551 RMSE: 7.630652784845665 mae: 5.408167391989739 MedAE 3.9900992722816255\n",
      "CV :  3\n",
      "NO2+d_transformer R2: 0.8364683779538356 RMSE: 7.790433244117749 mae: 5.671453138128858 MedAE 4.1768390812191285\n",
      "NO2+d_xgb R2: 0.8203960877161163 RMSE: 8.164293982434398 mae: 5.8286977766515164 MedAE 4.239204476341939\n",
      "NO2+d_gru R2: 0.8454260698707068 RMSE: 7.574062122037716 mae: 5.484439276547384 MedAE 4.034705470134824\n",
      "NO2+d_ensemble R2: 0.8485149541625737 RMSE: 7.4980031677966545 mae: 5.437326777264197 MedAE 4.006734627832728\n",
      "CV :  4\n",
      "NO2+d_transformer R2: 0.8373676332742179 RMSE: 7.792841270842634 mae: 5.658781269841519 MedAE 4.172625451956868\n",
      "NO2+d_xgb R2: 0.8222593308664747 RMSE: 8.146775425457692 mae: 5.805499321230704 MedAE 4.233573082454015\n",
      "NO2+d_gru R2: 0.8463125095213093 RMSE: 7.575505169128018 mae: 5.469003953322064 MedAE 4.033942548179439\n",
      "NO2+d_ensemble R2: 0.8494096254628649 RMSE: 7.498785759989462 mae: 5.421160950732785 MedAE 4.004231000019409\n"
     ]
    }
   ],
   "source": [
    "metrics = []\n",
    "for cv in range(5):\n",
    "    print('CV : ', cv)\n",
    "    metrics.append(model_evaluation(df_cv_list[cv]))"
   ]
  },
  {
   "cell_type": "code",
   "execution_count": 19,
   "metadata": {},
   "outputs": [],
   "source": [
    "MAE, RMSE, R2, MedAE = [], [], [], []\n",
    "for i in range(5):\n",
    "    MAE.append(metrics[i][2])\n",
    "    RMSE.append(metrics[i][1])\n",
    "    R2.append(metrics[i][0])\n",
    "    MedAE.append(metrics[i][3])\n",
    "\n",
    "MAE = pd.concat(MAE).reset_index(drop=True)\n",
    "RMSE = pd.concat(RMSE).reset_index(drop=True)\n",
    "R2 = pd.concat(R2).reset_index(drop=True)\n",
    "MedAE = pd.concat(MedAE).reset_index(drop=True)"
   ]
  },
  {
   "cell_type": "code",
   "execution_count": 20,
   "metadata": {},
   "outputs": [
    {
     "name": "stdout",
     "output_type": "stream",
     "text": [
      "R2: NO2+d                   NaN\n",
      "NO2+d_transformer   0.83444\n",
      "NO2+d_xgb           0.81875\n",
      "NO2+d_gru           0.84466\n",
      "NO2+d_ensemble      0.84700\n",
      "dtype: float64\n",
      "RMSE: NO2+d                   NaN\n",
      "NO2+d_transformer   7.85165\n",
      "NO2+d_xgb           8.21588\n",
      "NO2+d_gru           7.60599\n",
      "NO2+d_ensemble      7.54858\n",
      "dtype: float64\n",
      "MAE: NO2+d                   NaN\n",
      "NO2+d_transformer   5.68646\n",
      "NO2+d_xgb           5.81514\n",
      "NO2+d_gru           5.46759\n",
      "NO2+d_ensemble      5.43150\n",
      "dtype: float64\n",
      "MedAE: NO2+d                   NaN\n",
      "NO2+d_transformer   4.18187\n",
      "NO2+d_xgb           4.23287\n",
      "NO2+d_gru           4.03281\n",
      "NO2+d_ensemble      4.00319\n",
      "dtype: float64\n"
     ]
    }
   ],
   "source": [
    "print('R2:', R2.mean())\n",
    "print('RMSE:', RMSE.mean())\n",
    "print('MAE:', MAE.mean())\n",
    "print('MedAE:', MedAE.mean())"
   ]
  },
  {
   "cell_type": "code",
   "execution_count": null,
   "metadata": {},
   "outputs": [],
   "source": []
  }
 ],
 "metadata": {
  "kernelspec": {
   "display_name": "Python 3.7.6 ('base')",
   "language": "python",
   "name": "python3"
  },
  "language_info": {
   "codemirror_mode": {
    "name": "ipython",
    "version": 3
   },
   "file_extension": ".py",
   "mimetype": "text/x-python",
   "name": "python",
   "nbconvert_exporter": "python",
   "pygments_lexer": "ipython3",
   "version": "3.7.6"
  },
  "vscode": {
   "interpreter": {
    "hash": "f8782dc6450bb6c4f0dcdcd91ef46aef00cd4befbbefab95401b197499c33544"
   }
  }
 },
 "nbformat": 4,
 "nbformat_minor": 0
}
